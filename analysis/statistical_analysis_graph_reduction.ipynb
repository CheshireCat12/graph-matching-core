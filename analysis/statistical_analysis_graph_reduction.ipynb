{
 "cells": [
  {
   "cell_type": "code",
   "execution_count": 1,
   "id": "separated-filling",
   "metadata": {},
   "outputs": [],
   "source": [
    "import numpy as np\n",
    "import scipy.stats as st\n",
    "from sklearn.metrics import precision_score, recall_score, f1_score\n",
    "import sklearn"
   ]
  },
  {
   "cell_type": "code",
   "execution_count": 2,
   "id": "acquired-january",
   "metadata": {},
   "outputs": [],
   "source": [
    "### Constantes ###\n",
    "DATASET_NAME = 'mutagenicity'\n",
    "CENTRALITY_NAME = 'pagerank'\n",
    "AVERAGE = 'micro' if DATASET_NAME == 'letter' else 'binary'"
   ]
  },
  {
   "cell_type": "code",
   "execution_count": 3,
   "id": "paperback-durham",
   "metadata": {},
   "outputs": [],
   "source": [
    "def get_data(dataset_name, percentage, centrality_name):\n",
    "    filename = f'../results/h_knn/{dataset_name}/prediction_{percentage}_{centrality_name}.npy'\n",
    "    with open(filename, 'rb') as f:\n",
    "        lbls_test = np.load(f)\n",
    "        predictions = np.load(f)\n",
    "    \n",
    "    return lbls_test, predictions\n"
   ]
  },
  {
   "cell_type": "code",
   "execution_count": 4,
   "id": "contemporary-palestinian",
   "metadata": {},
   "outputs": [],
   "source": [
    "def calc_accuracy(lbls_test, predictions):\n",
    "    correctly_classified = np.sum(lbls_test == predictions)\n",
    "    accuracy = 100 * (correctly_classified / len(lbls_test))\n",
    "    \n",
    "    return round(accuracy, 2)"
   ]
  },
  {
   "cell_type": "code",
   "execution_count": 5,
   "id": "turned-convention",
   "metadata": {},
   "outputs": [],
   "source": [
    "def get_X(lbls_test, predictions_100, predictions_to_test):\n",
    "    X_t = []\n",
    "    for ground_truth, pred_100, pred_to_test in zip(lbls_test, predictions_100, predictions_to_test):\n",
    "        is_100_correct = pred_100 == ground_truth\n",
    "        is_pred_to_test_correct = pred_to_test == ground_truth\n",
    "        val = 1 * (is_100_correct and not is_pred_to_test_correct) + \\\n",
    "            (-1) * (not is_100_correct and is_pred_to_test_correct)\n",
    "        X_t.append(val)\n",
    "            \n",
    "    return np.array(X_t)\n",
    "\n",
    "def calc_Z_score(lbls_test, predictions_100, predictions_to_test):\n",
    "    X_t = get_X(lbls_test, predictions_100, predictions_to_test)\n",
    "    \n",
    "    mu_x = np.mean(X_t)\n",
    "    var_x = np.var(X_t)\n",
    "    \n",
    "    Z = mu_x / (np.sqrt(var_x / len(lbls_test)))\n",
    "    \n",
    "    return Z"
   ]
  },
  {
   "cell_type": "code",
   "execution_count": 6,
   "id": "tight-gilbert",
   "metadata": {},
   "outputs": [
    {
     "name": "stdout",
     "output_type": "stream",
     "text": [
      "Percentage: 100\n",
      "\n",
      "Accuracy 71.63%\n",
      "Precision 0.71\n",
      "Recall 0.61\n",
      "F1-score 0.66\n",
      "\n",
      "Z score nan\n",
      "P-value nan\n",
      "Difference significantly worst (alpha=0.1): False\n",
      "-------\n",
      "\n",
      "Percentage: 80\n",
      "\n",
      "Accuracy 72.31%\n",
      "Precision 0.72\n",
      "Recall 0.62\n",
      "F1-score 0.67\n",
      "\n",
      "Z score -0.72\n",
      "P-value 0.24\n",
      "Difference significantly better (alpha=0.1): False\n",
      "-------\n",
      "\n",
      "Percentage: 60\n",
      "\n",
      "Accuracy 69.62%\n",
      "Precision 0.67\n",
      "Recall 0.62\n",
      "F1-score 0.65\n",
      "\n",
      "Z score 2.02\n",
      "P-value 0.98\n",
      "Difference significantly worst (alpha=0.1): True\n",
      "-------\n",
      "\n",
      "Percentage: 40\n",
      "\n",
      "Accuracy 63.84%\n",
      "Precision 0.62\n",
      "Recall 0.48\n",
      "F1-score 0.54\n",
      "\n",
      "Z score 6.66\n",
      "P-value 1.00\n",
      "Difference significantly worst (alpha=0.1): True\n",
      "-------\n",
      "\n",
      "Percentage: 20\n",
      "\n",
      "Accuracy 62.99%\n",
      "Precision 0.59\n",
      "Recall 0.54\n",
      "F1-score 0.57\n",
      "\n",
      "Z score 7.25\n",
      "P-value 1.00\n",
      "Difference significantly worst (alpha=0.1): True\n",
      "-------\n",
      "\n"
     ]
    },
    {
     "name": "stderr",
     "output_type": "stream",
     "text": [
      "<ipython-input-5-6db3c4ce0b26>:18: RuntimeWarning: invalid value encountered in double_scalars\n",
      "  Z = mu_x / (np.sqrt(var_x / len(lbls_test)))\n"
     ]
    }
   ],
   "source": [
    "lbls_test, predictions_100 = get_data(DATASET_NAME, '100', CENTRALITY_NAME)\n",
    "alpha = 0.1\n",
    "\n",
    "percentages = [100, 80, 60, 40, 20]\n",
    "for percentage in percentages:\n",
    "    _, predictions = get_data(DATASET_NAME, str(percentage), CENTRALITY_NAME)\n",
    "    \n",
    "    accuracy = calc_accuracy(lbls_test, predictions)\n",
    "    z_score = calc_Z_score(lbls_test, predictions_100, predictions)\n",
    "    p_value = st.norm.cdf(z_score)\n",
    "    \n",
    "    print(f'Percentage: {percentage}\\n')\n",
    "    \n",
    "    print(f'Accuracy {accuracy}%')\n",
    "    print(f'Precision {precision_score(lbls_test, predictions, average=AVERAGE):.2f}')\n",
    "    print(f'Recall {recall_score(lbls_test, predictions, average=AVERAGE):.2f}')\n",
    "    print(f'F1-score {f1_score(lbls_test, predictions, average=AVERAGE):.2f}\\n')\n",
    "    \n",
    "    print(f'Z score {z_score:.2f}')\n",
    "    print(f'P-value {p_value:.2f}')\n",
    "    \n",
    "    if z_score < 0:\n",
    "        print(f'Difference significantly better (alpha={alpha}): {p_value < alpha}')\n",
    "    else:\n",
    "        print(f'Difference significantly worst (alpha={alpha}): {1-p_value < alpha}')\n",
    "    print('-------\\n')"
   ]
  },
  {
   "cell_type": "code",
   "execution_count": null,
   "id": "specific-ending",
   "metadata": {},
   "outputs": [],
   "source": []
  },
  {
   "cell_type": "code",
   "execution_count": null,
   "id": "ceramic-monitor",
   "metadata": {},
   "outputs": [],
   "source": []
  }
 ],
 "metadata": {
  "kernelspec": {
   "display_name": "Python 3",
   "language": "python",
   "name": "python3"
  },
  "language_info": {
   "codemirror_mode": {
    "name": "ipython",
    "version": 3
   },
   "file_extension": ".py",
   "mimetype": "text/x-python",
   "name": "python",
   "nbconvert_exporter": "python",
   "pygments_lexer": "ipython3",
   "version": "3.9.2"
  }
 },
 "nbformat": 4,
 "nbformat_minor": 5
}
