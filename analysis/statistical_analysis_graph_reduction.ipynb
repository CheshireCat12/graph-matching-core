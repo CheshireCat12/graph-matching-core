{
 "cells": [
  {
   "cell_type": "code",
   "execution_count": 25,
   "id": "separated-filling",
   "metadata": {},
   "outputs": [],
   "source": [
    "import numpy as np\n",
    "import scipy.stats as st"
   ]
  },
  {
   "cell_type": "code",
   "execution_count": 2,
   "id": "acquired-january",
   "metadata": {},
   "outputs": [],
   "source": [
    "### Constantes ###\n",
    "DATASET_NAME = 'AIDS'\n",
    "CENTRALITY_NAME = 'pagerank'"
   ]
  },
  {
   "cell_type": "code",
   "execution_count": 3,
   "id": "paperback-durham",
   "metadata": {},
   "outputs": [],
   "source": [
    "def get_data(dataset_name, percentage, centrality_name):\n",
    "    filename = f'../results/h_knn/{dataset_name}/prediction_{percentage}_{centrality_name}.npy'\n",
    "    with open(filename, 'rb') as f:\n",
    "        lbls_test = np.load(f)\n",
    "        predictions = np.load(f)\n",
    "    \n",
    "    return lbls_test, predictions\n"
   ]
  },
  {
   "cell_type": "code",
   "execution_count": 4,
   "id": "contemporary-palestinian",
   "metadata": {},
   "outputs": [],
   "source": [
    "def calc_accuracy(lbls_test, predictions):\n",
    "    correctly_classified = np.sum(lbls_test == predictions)\n",
    "    accuracy = 100 * (correctly_classified / len(lbls_test))\n",
    "    \n",
    "    return round(accuracy, 2)"
   ]
  },
  {
   "cell_type": "code",
   "execution_count": 20,
   "id": "turned-convention",
   "metadata": {},
   "outputs": [],
   "source": [
    "def get_X(lbls_test, predictions_100, predictions_to_test):\n",
    "    X_t = []\n",
    "    for ground_truth, pred_100, pred_to_test in zip(lbls_test, predictions_100, predictions_to_test):\n",
    "        is_100_correct = pred_100 == ground_truth\n",
    "        is_pred_to_test_correct = pred_to_test == ground_truth\n",
    "        val = 1 * (is_100_correct and not is_pred_to_test_correct) + \\\n",
    "            (-1) * (not is_100_correct and is_pred_to_test_correct)\n",
    "        X_t.append(val)\n",
    "            \n",
    "    return np.array(X_t)\n",
    "\n",
    "def calc_Z_score(lbls_test, predictions_100, predictions_to_test):\n",
    "    X_t = get_X(lbls_test, predictions_100, predictions_to_test)\n",
    "    \n",
    "    mu_x = np.mean(X_t)\n",
    "    var_x = np.var(X_t)\n",
    "    \n",
    "    Z = mu_x / (np.sqrt(var_x / len(lbls_test)))\n",
    "    \n",
    "    return Z"
   ]
  },
  {
   "cell_type": "code",
   "execution_count": 24,
   "id": "tight-gilbert",
   "metadata": {},
   "outputs": [
    {
     "name": "stdout",
     "output_type": "stream",
     "text": [
      "Percentage: 100\n",
      "Accuracy 98.87%\n",
      "Z score nan\n",
      "P-value nan\n",
      "-------\n",
      "Percentage: 80\n",
      "Accuracy 99.13%\n",
      "Z score -1.1552140810056537\n",
      "P-value 0.12400138493007745\n",
      "-------\n",
      "Percentage: 60\n",
      "Accuracy 98.67%\n",
      "Z score 0.7747516350666294\n",
      "P-value 0.7807567833855883\n",
      "-------\n",
      "Percentage: 40\n",
      "Accuracy 99.27%\n",
      "Z score -1.2799026173366892\n",
      "P-value 0.10028969351284045\n",
      "-------\n",
      "Percentage: 20\n",
      "Accuracy 95.73%\n",
      "Z score 5.557274394191939\n",
      "P-value 0.9999999862990092\n",
      "-------\n"
     ]
    },
    {
     "name": "stderr",
     "output_type": "stream",
     "text": [
      "<ipython-input-20-6db3c4ce0b26>:18: RuntimeWarning: invalid value encountered in double_scalars\n",
      "  Z = mu_x / (np.sqrt(var_x / len(lbls_test)))\n"
     ]
    }
   ],
   "source": [
    "lbls_test, predictions_100 = get_data(DATASET_NAME, '100', CENTRALITY_NAME)\n",
    "\n",
    "percentages = [100, 80, 60, 40, 20]\n",
    "for percentage in percentages:\n",
    "    _, predictions = get_data(DATASET_NAME, str(percentage), CENTRALITY_NAME)\n",
    "    \n",
    "    accuracy = calc_accuracy(lbls_test, predictions)\n",
    "    z_score = calc_Z_score(lbls_test, predictions_100, predictions)\n",
    "    p_value = st.norm.cdf(z_score)\n",
    "    \n",
    "    \n",
    "    print(f'Percentage: {percentage}')\n",
    "    print(f'Accuracy {accuracy}%')\n",
    "    print(f'Z score {z_score}')\n",
    "    print(f'P-value {p_value}')\n",
    "    print('-------')"
   ]
  },
  {
   "cell_type": "code",
   "execution_count": null,
   "id": "specific-ending",
   "metadata": {},
   "outputs": [],
   "source": [
    "def calc_precision()"
   ]
  },
  {
   "cell_type": "code",
   "execution_count": null,
   "id": "ceramic-monitor",
   "metadata": {},
   "outputs": [],
   "source": []
  }
 ],
 "metadata": {
  "kernelspec": {
   "display_name": "Python 3",
   "language": "python",
   "name": "python3"
  },
  "language_info": {
   "codemirror_mode": {
    "name": "ipython",
    "version": 3
   },
   "file_extension": ".py",
   "mimetype": "text/x-python",
   "name": "python",
   "nbconvert_exporter": "python",
   "pygments_lexer": "ipython3",
   "version": "3.9.2"
  }
 },
 "nbformat": 4,
 "nbformat_minor": 5
}
