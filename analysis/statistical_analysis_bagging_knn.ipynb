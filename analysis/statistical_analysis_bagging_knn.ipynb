{
 "cells": [
  {
   "cell_type": "code",
   "execution_count": 1,
   "id": "separated-filling",
   "metadata": {},
   "outputs": [],
   "source": [
    "import numpy as np\n",
    "import scipy.stats as st\n",
    "from sklearn.metrics import precision_score, recall_score, f1_score\n",
    "import sklearn"
   ]
  },
  {
   "cell_type": "code",
   "execution_count": 2,
   "id": "acquired-january",
   "metadata": {},
   "outputs": [],
   "source": [
    "### Constantes ###\n",
    "# DATASET_NAME = 'letter'\n",
    "# DATASET_NAME = 'AIDS'\n",
    "# DATASET_NAME = 'mutagenicity'\n",
    "DATASET_NAME = 'NCI1'\n",
    "CENTRALITY_NAME = 'pagerank'\n",
    "# CENTRALITY_NAME = 'betweenness'\n",
    "EXPERIMENT = 'bagging_knn'\n",
    "AVERAGE = 'micro' if DATASET_NAME == 'letter' else 'binary'"
   ]
  },
  {
   "cell_type": "code",
   "execution_count": 3,
   "id": "paperback-durham",
   "metadata": {},
   "outputs": [],
   "source": [
    "def get_data(name=''):\n",
    "    filename = f'../results/{EXPERIMENT}/{DATASET_NAME}/predictions{name}.npy'\n",
    "    with open(filename, 'rb') as f:\n",
    "        lbls_test = np.load(f)\n",
    "        predictions = np.load(f)\n",
    "    \n",
    "    return lbls_test, predictions\n",
    "\n",
    "def save_stats(message):\n",
    "    filename = f'statistics_{EXPERIMENT}_{DATASET_NAME}_{CENTRALITY_NAME}.txt'\n",
    "    with open(filename, 'w') as f:\n",
    "        f.write(message)"
   ]
  },
  {
   "cell_type": "code",
   "execution_count": 4,
   "id": "contemporary-palestinian",
   "metadata": {},
   "outputs": [],
   "source": [
    "def calc_accuracy(lbls_test, predictions):\n",
    "    correctly_classified = np.sum(lbls_test == predictions)\n",
    "    accuracy = 100 * (correctly_classified / len(lbls_test))\n",
    "    \n",
    "    return round(accuracy, 2)"
   ]
  },
  {
   "cell_type": "code",
   "execution_count": 5,
   "id": "turned-convention",
   "metadata": {},
   "outputs": [],
   "source": [
    "def get_X(lbls_test, predictions_100, predictions_to_test):\n",
    "    X_t = []\n",
    "    for ground_truth, pred_100, pred_to_test in zip(lbls_test, predictions_100, predictions_to_test):\n",
    "        is_100_correct = pred_100 == ground_truth\n",
    "        is_pred_to_test_correct = pred_to_test == ground_truth\n",
    "        val = 1 * (is_100_correct and not is_pred_to_test_correct) + \\\n",
    "            (-1) * (not is_100_correct and is_pred_to_test_correct)\n",
    "        X_t.append(val)\n",
    "            \n",
    "    return np.array(X_t)\n",
    "\n",
    "def calc_Z_score(lbls_test, predictions_100, predictions_to_test):\n",
    "    X_t = get_X(lbls_test, predictions_100, predictions_to_test)\n",
    "    \n",
    "    mu_x = np.mean(X_t)\n",
    "    var_x = np.var(X_t)\n",
    "    \n",
    "    Z = mu_x / (np.sqrt(var_x / len(lbls_test)))\n",
    "    \n",
    "    return Z"
   ]
  },
  {
   "cell_type": "code",
   "execution_count": 6,
   "id": "tight-gilbert",
   "metadata": {},
   "outputs": [
    {
     "name": "stdout",
     "output_type": "stream",
     "text": [
      "Accuracy 73.2%\n",
      "Accuracy Random 55.2%\n",
      "Precision 0.75\n",
      "Recall 0.69\n",
      "F1-score 0.72\n",
      "\n",
      "Z score -5.86\n",
      "P-value 0.00\n",
      "Difference significantly better (alpha=0.1): True\n",
      "-------\n",
      "\n"
     ]
    }
   ],
   "source": [
    "lbls_test, predictions = get_data()\n",
    "_, predictions_random = get_data('_random')\n",
    "\n",
    "\n",
    "alpha = 0.1\n",
    "\n",
    "accuracy = calc_accuracy(lbls_test, predictions)\n",
    "accuracy_random = calc_accuracy(lbls_test, predictions_random)\n",
    "z_score = calc_Z_score(lbls_test, predictions_random, predictions)\n",
    "p_value = st.norm.cdf(z_score)\n",
    "\n",
    "message = ''\n",
    "\n",
    "\n",
    "message += f'Accuracy {accuracy}%\\n'\n",
    "message += f'Accuracy Random {accuracy_random}%\\n'\n",
    "message += f'Precision {precision_score(lbls_test, predictions, average=AVERAGE):.2f}\\n'\n",
    "message += f'Recall {recall_score(lbls_test, predictions, average=AVERAGE):.2f}\\n'\n",
    "message += f'F1-score {f1_score(lbls_test, predictions, average=AVERAGE):.2f}\\n\\n'\n",
    "\n",
    "message += f'Z score {z_score:.2f}\\n'\n",
    "message += f'P-value {p_value:.2f}\\n'\n",
    "\n",
    "if z_score < 0:\n",
    "    message += f'Difference significantly better (alpha={alpha}): {p_value <= alpha}\\n'\n",
    "else:\n",
    "    message += f'Difference significantly worst (alpha={alpha}): {1-p_value <= alpha}\\n'\n",
    "message += '-------\\n'\n",
    "\n",
    "save_stats(message)\n",
    "print(message)"
   ]
  },
  {
   "cell_type": "code",
   "execution_count": 7,
   "id": "flush-thanksgiving",
   "metadata": {},
   "outputs": [],
   "source": [
    "import numpy as np\n",
    "\n",
    "def proportion(preds):\n",
    "    nb_ones = np.count_nonzero(preds)\n",
    "    size = len(preds)\n",
    "    nb_zeros = size - nb_ones\n",
    "\n",
    "    proportion_1 = nb_ones / size\n",
    "    proportion_0 = nb_zeros / size\n",
    "    print(f'\\nproportion of 1: {nb_ones}/{size} {proportion_1}')\n",
    "    print(f'\\nproportion of 0: {nb_zeros}/{size} {proportion_0}')"
   ]
  },
  {
   "cell_type": "code",
   "execution_count": 8,
   "id": "specific-ending",
   "metadata": {},
   "outputs": [
    {
     "name": "stdout",
     "output_type": "stream",
     "text": [
      "[0 1 1 0 0 0 1 0 0 1 0 0 0 1 0 0 0 0 0 1 0 0 1 1 0 0 1 0 0 1 0 0 0 1 0 0 1\n",
      " 0 1 0 0 0 1 1 1 0 1 1 0 0 0 0 1 0 1 0 0 0 0 0 1 0 0 0 1 0 0 0 1 1 0 0 0 0\n",
      " 0 0 1 0 0 0 0 0 1 0 0 0 0 0 0 0 0 0 0 0 0 0 0 0 0 1 0 1 0 0 1 0 1 0 1 0 1\n",
      " 0 0 0 0 0 0 0 0 0 0 0 0 0 0 0 1 0 0 0 0 0 0 0 0 0 0 0 0 0 0 0 0 1 0 1 0 1\n",
      " 1 0 0 1 0 0 0 0 1 0 0 0 0 0 0 0 1 0 0 0 0 0 0 0 1 0 0 0 0 0 1 0 0 0 0 0 0\n",
      " 0 0 0 0 0 0 0 0 1 0 0 0 0 0 0 1 1 1 0 0 0 0 1 0 0 0 1 0 0 0 0 0 0 1 1 0 0\n",
      " 0 0 0 0 0 0 0 1 0 0 0 0 1 1 0 1 0 0 1 1 0 0 0 1 0 0 0 0 1 1 1 0 1 0 0 0 1\n",
      " 0 1 1 1 0 0 0 1 1 1 1 0 1 0 1 1 1 1 1 0 1 1 1 1 1 0 1 1 1 1 1 0 1 1 1 1 1\n",
      " 0 1 1 0 1 1 1 1 1 1 0 0 1 1 1 1 1 1 1 0 0 1 1 1 1 0 1 1 1 1 1 0 1 1 1 0 1\n",
      " 1 1 0 0 1 1 1 1 0 1 0 1 0 1 1 1 1 0 1 1 1 1 1 0 0 1 1 1 1 1 1 1 0 1 1 1 1\n",
      " 1 0 0 1 1 1 0 1 0 0 1 1 0 0 1 0 1 1 0 0 1 1 0 0 1 1 1 0 1 1 1 0 0 1 1 1 0\n",
      " 0 1 0 0 1 1 1 0 1 1 0 1 1 1 0 1 1 1 1 0 1 1 0 1 1 0 1 1 1 1 0 1 1 0 1 1 1\n",
      " 0 1 0 1 1 1 1 0 0 1 0 1 1 1 0 1 0 1 0 0 1 1 1 0 1 1 0 1 0 1 0 0 1 1 1 1 1\n",
      " 1 1 1 1 1 1 1 1 0 1 1 1 0 1 1 0 0 0 1]\n",
      "\n",
      "proportion of 1: 230/500 0.46\n",
      "\n",
      "proportion of 0: 270/500 0.54\n"
     ]
    }
   ],
   "source": [
    "print(predictions)\n",
    "proportion(predictions)"
   ]
  },
  {
   "cell_type": "code",
   "execution_count": 9,
   "id": "ceramic-monitor",
   "metadata": {},
   "outputs": [
    {
     "name": "stdout",
     "output_type": "stream",
     "text": [
      "[1 0 1 1 1 1 1 1 1 1 1 1 1 1 1 1 0 1 1 1 1 1 1 1 1 1 1 1 1 1 1 1 1 1 1 1 1\n",
      " 1 1 1 1 1 1 0 1 1 1 1 1 1 1 1 1 1 1 1 1 1 1 1 1 0 1 1 1 1 1 1 1 1 1 0 0 1\n",
      " 1 1 1 1 1 1 1 0 1 1 1 1 1 1 1 1 1 0 1 1 1 1 1 1 1 1 0 1 1 1 1 1 1 1 1 0 1\n",
      " 1 1 1 1 1 1 1 1 0 1 1 1 1 1 0 1 0 1 1 1 1 1 1 1 0 1 1 0 1 0 1 1 0 1 1 1 1\n",
      " 1 1 1 1 1 1 1 1 1 1 1 1 1 1 1 1 1 0 1 1 1 1 1 0 0 1 1 1 0 1 1 1 1 1 1 1 1\n",
      " 0 0 1 1 1 1 1 1 1 1 0 1 1 1 1 1 1 1 1 1 1 1 1 0 1 1 1 1 1 0 1 1 1 1 1 1 1\n",
      " 0 1 1 1 1 1 0 0 1 0 0 1 1 0 1 1 1 1 1 1 1 1 0 1 1 1 1 1 1 1 1 1 1 1 1 0 1\n",
      " 1 1 1 1 1 1 1 0 0 1 1 1 1 1 1 1 0 1 1 1 1 1 1 1 1 1 1 1 1 1 1 1 1 1 1 1 1\n",
      " 1 1 1 1 1 1 1 1 1 1 1 1 1 1 1 1 1 1 1 1 1 1 1 1 1 1 0 1 1 1 1 1 1 1 1 1 1\n",
      " 1 1 1 1 1 1 1 1 1 1 1 1 1 1 1 1 1 0 1 1 1 1 1 1 1 1 1 1 1 1 1 1 1 1 1 1 1\n",
      " 1 1 1 1 1 1 1 1 1 1 1 1 1 1 0 1 1 1 1 1 1 1 1 1 1 1 1 1 1 1 1 1 1 1 1 1 1\n",
      " 1 1 1 1 1 1 1 1 1 1 1 1 1 1 1 1 1 1 1 1 1 1 1 1 1 1 1 1 1 1 1 1 1 1 1 1 1\n",
      " 1 1 1 1 1 1 1 1 1 1 1 1 1 1 1 1 1 1 1 1 1 1 1 1 1 1 1 1 1 1 1 1 1 1 1 1 1\n",
      " 1 1 1 1 1 1 1 1 1 1 1 1 1 1 1 1 1 1 1]\n",
      "\n",
      "proportion of 1: 460/500 0.92\n",
      "\n",
      "proportion of 0: 40/500 0.08\n"
     ]
    }
   ],
   "source": [
    "print(predictions_random)\n",
    "proportion(predictions_random)"
   ]
  },
  {
   "cell_type": "code",
   "execution_count": 10,
   "id": "empty-sellers",
   "metadata": {},
   "outputs": [
    {
     "name": "stdout",
     "output_type": "stream",
     "text": [
      "[0 0 0 0 0 0 0 0 0 0 0 0 0 0 0 0 0 0 0 0 0 0 0 0 0 0 0 0 0 0 0 0 0 0 0 0 0\n",
      " 0 0 0 0 0 0 0 0 0 0 0 0 0 0 0 0 0 0 0 0 0 0 0 0 0 0 0 0 0 0 0 0 0 0 0 0 0\n",
      " 0 0 0 0 0 0 0 0 0 0 0 0 0 0 0 0 0 0 0 0 0 0 0 0 0 0 0 0 0 0 0 0 0 0 0 0 0\n",
      " 0 0 0 0 0 0 0 0 0 0 0 0 0 0 0 0 0 0 0 0 0 0 0 0 0 0 0 0 0 0 0 0 0 0 0 0 0\n",
      " 0 0 0 0 0 0 0 0 0 0 0 0 0 0 0 0 0 0 0 0 0 0 0 0 0 0 0 0 0 0 0 0 0 0 0 0 0\n",
      " 0 0 0 0 0 0 0 0 0 0 0 0 0 0 0 0 0 0 0 0 0 0 0 0 0 0 0 0 0 0 0 0 0 0 0 0 0\n",
      " 0 0 0 0 0 0 0 0 0 0 0 0 0 0 0 0 0 0 0 0 0 0 0 0 0 0 0 0 1 1 1 1 1 1 1 1 1\n",
      " 1 1 1 1 1 1 1 1 1 1 1 1 1 1 1 1 1 1 1 1 1 1 1 1 1 1 1 1 1 1 1 1 1 1 1 1 1\n",
      " 1 1 1 1 1 1 1 1 1 1 1 1 1 1 1 1 1 1 1 1 1 1 1 1 1 1 1 1 1 1 1 1 1 1 1 1 1\n",
      " 1 1 1 1 1 1 1 1 1 1 1 1 1 1 1 1 1 1 1 1 1 1 1 1 1 1 1 1 1 1 1 1 1 1 1 1 1\n",
      " 1 1 1 1 1 1 1 1 1 1 1 1 1 1 1 1 1 1 1 1 1 1 1 1 1 1 1 1 1 1 1 1 1 1 1 1 1\n",
      " 1 1 1 1 1 1 1 1 1 1 1 1 1 1 1 1 1 1 1 1 1 1 1 1 1 1 1 1 1 1 1 1 1 1 1 1 1\n",
      " 1 1 1 1 1 1 1 1 1 1 1 1 1 1 1 1 1 1 1 1 1 1 1 1 1 1 1 1 1 1 1 1 1 1 1 1 1\n",
      " 1 1 1 1 1 1 1 1 1 1 1 1 1 1 1 1 1 1 1]\n",
      "\n",
      "proportion of 1: 250/500 0.5\n",
      "\n",
      "proportion of 0: 250/500 0.5\n"
     ]
    }
   ],
   "source": [
    "print(lbls_test)\n",
    "\n",
    "proportion(lbls_test)"
   ]
  },
  {
   "cell_type": "code",
   "execution_count": null,
   "id": "burning-arrow",
   "metadata": {},
   "outputs": [],
   "source": []
  }
 ],
 "metadata": {
  "kernelspec": {
   "display_name": "Python 3",
   "language": "python",
   "name": "python3"
  },
  "language_info": {
   "codemirror_mode": {
    "name": "ipython",
    "version": 3
   },
   "file_extension": ".py",
   "mimetype": "text/x-python",
   "name": "python",
   "nbconvert_exporter": "python",
   "pygments_lexer": "ipython3",
   "version": "3.9.5"
  }
 },
 "nbformat": 4,
 "nbformat_minor": 5
}
