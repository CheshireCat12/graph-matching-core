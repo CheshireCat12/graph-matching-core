{
 "cells": [
  {
   "cell_type": "code",
   "execution_count": 1,
   "id": "separated-filling",
   "metadata": {},
   "outputs": [],
   "source": [
    "import numpy as np\n",
    "import scipy.stats as st\n",
    "from sklearn.metrics import precision_score, recall_score, f1_score\n",
    "import sklearn"
   ]
  },
  {
   "cell_type": "code",
   "execution_count": 2,
   "id": "acquired-january",
   "metadata": {},
   "outputs": [],
   "source": [
    "### Constantes ###\n",
    "# DATASET_NAME = 'letter'\n",
    "DATASET_NAME = 'AIDS'\n",
    "# DATASET_NAME = 'mutagenicity'\n",
    "# DATASET_NAME = 'NCI1'\n",
    "CENTRALITY_NAME = 'pagerank'\n",
    "EXPERIMENT = 'coarse_to_fine'\n",
    "POINT = '3'\n",
    "AVERAGE = 'micro' if DATASET_NAME == 'letter' else 'binary'"
   ]
  },
  {
   "cell_type": "code",
   "execution_count": 3,
   "id": "paperback-durham",
   "metadata": {},
   "outputs": [],
   "source": [
    "def get_ground_truth():\n",
    "    filename = f'../results/h_knn/{DATASET_NAME}/prediction_100_{CENTRALITY_NAME}.npy'\n",
    "    return _get_data(filename)\n",
    "\n",
    "def get_data():\n",
    "    filename = f'../results/{EXPERIMENT}/{DATASET_NAME}/res_{CENTRALITY_NAME}_pt{POINT}.npy'\n",
    "    return _get_data(filename)\n",
    "\n",
    "def _get_data(filename):\n",
    "\n",
    "    with open(filename, 'rb') as f:\n",
    "        lbls_test = np.load(f)\n",
    "        predictions = np.load(f)\n",
    "    \n",
    "    return lbls_test, predictions\n",
    "\n",
    "def save_stats(message):\n",
    "    filename = f'statistics_{EXPERIMENT}_{DATASET_NAME}_{CENTRALITY_NAME}.txt'\n",
    "    with open(filename, 'w') as f:\n",
    "        f.write(message)"
   ]
  },
  {
   "cell_type": "code",
   "execution_count": 4,
   "id": "contemporary-palestinian",
   "metadata": {},
   "outputs": [],
   "source": [
    "def calc_accuracy(lbls_test, predictions):\n",
    "    correctly_classified = np.sum(lbls_test == predictions)\n",
    "    \n",
    "    \n",
    "    \n",
    "    print(correctly_classified)\n",
    "    print(len(lbls_test))\n",
    "    print(correctly_classified / len(lbls_test))\n",
    "    \n",
    "    accuracy = 100 * (correctly_classified / len(lbls_test))\n",
    "    \n",
    "    return round(accuracy, 2)"
   ]
  },
  {
   "cell_type": "code",
   "execution_count": 5,
   "id": "turned-convention",
   "metadata": {},
   "outputs": [],
   "source": [
    "def get_X(lbls_test, predictions_100, predictions_to_test):\n",
    "    X_t = []\n",
    "    for ground_truth, pred_100, pred_to_test in zip(lbls_test, predictions_100, predictions_to_test):\n",
    "        is_100_correct = pred_100 == ground_truth\n",
    "        is_pred_to_test_correct = pred_to_test == ground_truth\n",
    "        val = 1 * (is_100_correct and not is_pred_to_test_correct) + \\\n",
    "            (-1) * (not is_100_correct and is_pred_to_test_correct)\n",
    "        X_t.append(val)\n",
    "            \n",
    "    return np.array(X_t)\n",
    "\n",
    "def calc_Z_score(lbls_test, predictions_100, predictions_to_test):\n",
    "    X_t = get_X(lbls_test, predictions_100, predictions_to_test)\n",
    "    \n",
    "    mu_x = np.mean(X_t)\n",
    "    var_x = np.var(X_t)\n",
    "    \n",
    "    Z = mu_x / (np.sqrt(var_x / len(lbls_test)))\n",
    "    \n",
    "    return Z"
   ]
  },
  {
   "cell_type": "code",
   "execution_count": 6,
   "id": "tight-gilbert",
   "metadata": {},
   "outputs": [
    {
     "name": "stdout",
     "output_type": "stream",
     "text": [
      "1483\n",
      "1500\n",
      "0.9886666666666667\n",
      "1480\n",
      "1500\n",
      "0.9866666666666667\n",
      "Accuracy ground truth: 98.87 Accuracy 98.67%\n",
      "Precision 0.99\n",
      "Recall 1.00\n",
      "F1-score 0.99\n",
      "\n",
      "Z score 0.60\n",
      "P-value 0.73\n",
      "Difference significantly worst (alpha=0.1): False\n",
      "-------\n",
      "\n"
     ]
    }
   ],
   "source": [
    "lbls_test, predictions_100 = get_ground_truth()\n",
    "alpha = 0.1\n",
    "\n",
    "\n",
    "message = ''\n",
    "\n",
    "_, predictions = get_data()\n",
    "\n",
    "accuracy_ground_truth = calc_accuracy(lbls_test, predictions_100)\n",
    "accuracy = calc_accuracy(lbls_test, predictions)\n",
    "z_score = calc_Z_score(lbls_test, predictions_100, predictions)\n",
    "p_value = st.norm.cdf(z_score)\n",
    "    \n",
    "\n",
    "message += f'Accuracy ground truth: {accuracy_ground_truth} '\n",
    "message += f'Accuracy {accuracy}%\\n'\n",
    "message += f'Precision {precision_score(lbls_test, predictions, average=AVERAGE):.2f}\\n'\n",
    "message += f'Recall {recall_score(lbls_test, predictions, average=AVERAGE):.2f}\\n'\n",
    "message += f'F1-score {f1_score(lbls_test, predictions, average=AVERAGE):.2f}\\n\\n'\n",
    "    \n",
    "message += f'Z score {z_score:.2f}\\n'\n",
    "message += f'P-value {p_value:.2f}\\n'\n",
    "    \n",
    "if z_score < 0:\n",
    "    message += f'Difference significantly better (alpha={alpha}): {p_value <= alpha}\\n'\n",
    "else:\n",
    "    message += f'Difference significantly worst (alpha={alpha}): {1-p_value <= alpha}\\n'\n",
    "message += '-------\\n'\n",
    "\n",
    "save_stats(message)\n",
    "print(message)"
   ]
  },
  {
   "cell_type": "code",
   "execution_count": 7,
   "id": "specific-ending",
   "metadata": {},
   "outputs": [
    {
     "data": {
      "text/plain": [
       "0.27422912177764136"
      ]
     },
     "execution_count": 7,
     "metadata": {},
     "output_type": "execute_result"
    }
   ],
   "source": [
    "1-p_value"
   ]
  },
  {
   "cell_type": "code",
   "execution_count": 8,
   "id": "ceramic-monitor",
   "metadata": {},
   "outputs": [],
   "source": [
    "filename = f'../results/{EXPERIMENT}/{DATASET_NAME}/res_{CENTRALITY_NAME}_pt{POINT}_idx_predicted.npy'\n",
    "ground_truth, idx_predicted = _get_data(filename)"
   ]
  },
  {
   "cell_type": "code",
   "execution_count": 9,
   "id": "engaging-exhibition",
   "metadata": {},
   "outputs": [
    {
     "data": {
      "text/plain": [
       "1473"
      ]
     },
     "execution_count": 9,
     "metadata": {},
     "output_type": "execute_result"
    }
   ],
   "source": [
    "len(idx_predicted)"
   ]
  },
  {
   "cell_type": "code",
   "execution_count": 10,
   "id": "rough-sister",
   "metadata": {},
   "outputs": [
    {
     "data": {
      "text/plain": [
       "array([1, 1, 1, ..., 1, 1, 1], dtype=int32)"
      ]
     },
     "execution_count": 10,
     "metadata": {},
     "output_type": "execute_result"
    }
   ],
   "source": [
    "predictions[idx_predicted]"
   ]
  },
  {
   "cell_type": "code",
   "execution_count": 11,
   "id": "matched-dubai",
   "metadata": {},
   "outputs": [
    {
     "name": "stdout",
     "output_type": "stream",
     "text": [
      "1457\n",
      "1473\n",
      "0.9891378139850645\n"
     ]
    },
    {
     "data": {
      "text/plain": [
       "98.91"
      ]
     },
     "execution_count": 11,
     "metadata": {},
     "output_type": "execute_result"
    }
   ],
   "source": [
    "accuracy = calc_accuracy(ground_truth[idx_predicted], predictions[idx_predicted])\n",
    "accuracy"
   ]
  },
  {
   "cell_type": "code",
   "execution_count": 12,
   "id": "behavioral-metro",
   "metadata": {},
   "outputs": [
    {
     "data": {
      "text/plain": [
       "27"
      ]
     },
     "execution_count": 12,
     "metadata": {},
     "output_type": "execute_result"
    }
   ],
   "source": [
    "mask = np.ones(len(predictions), bool)\n",
    "mask[idx_predicted] = 0\n",
    "len(predictions[mask])"
   ]
  },
  {
   "cell_type": "code",
   "execution_count": 13,
   "id": "acquired-outside",
   "metadata": {},
   "outputs": [
    {
     "name": "stdout",
     "output_type": "stream",
     "text": [
      "23\n",
      "27\n",
      "0.8518518518518519\n"
     ]
    },
    {
     "data": {
      "text/plain": [
       "85.19"
      ]
     },
     "execution_count": 13,
     "metadata": {},
     "output_type": "execute_result"
    }
   ],
   "source": [
    "accuracy = calc_accuracy(ground_truth[mask], predictions[mask])\n",
    "accuracy"
   ]
  },
  {
   "cell_type": "markdown",
   "id": "cloudy-reservoir",
   "metadata": {},
   "source": [
    "idx_predicted"
   ]
  },
  {
   "cell_type": "code",
   "execution_count": 14,
   "id": "temporal-series",
   "metadata": {},
   "outputs": [
    {
     "name": "stdout",
     "output_type": "stream",
     "text": [
      "[0 0 0 0 0 0 0 0 0 0 0 0 0 0 0 0 0 0 0 0 0 0 0 0 0 0 0]\n"
     ]
    }
   ],
   "source": [
    "print(predictions[mask])"
   ]
  },
  {
   "cell_type": "code",
   "execution_count": 15,
   "id": "dedicated-tyler",
   "metadata": {},
   "outputs": [
    {
     "name": "stdout",
     "output_type": "stream",
     "text": [
      "[0 0 0 0 0 0 1 1 0 0 0 0 0 0 0 0 0 0 0 0 0 0 0 0 0 1 1]\n"
     ]
    }
   ],
   "source": [
    "print(ground_truth[mask])"
   ]
  },
  {
   "cell_type": "code",
   "execution_count": 16,
   "id": "strange-alberta",
   "metadata": {},
   "outputs": [
    {
     "data": {
      "text/plain": [
       "Counter({0: 27})"
      ]
     },
     "execution_count": 16,
     "metadata": {},
     "output_type": "execute_result"
    }
   ],
   "source": [
    "from collections import Counter\n",
    "\n",
    "Counter(predictions[mask])"
   ]
  },
  {
   "cell_type": "code",
   "execution_count": 17,
   "id": "departmental-giving",
   "metadata": {},
   "outputs": [
    {
     "data": {
      "text/plain": [
       "Counter({0: 23, 1: 4})"
      ]
     },
     "execution_count": 17,
     "metadata": {},
     "output_type": "execute_result"
    }
   ],
   "source": [
    "Counter(ground_truth[mask])"
   ]
  },
  {
   "cell_type": "code",
   "execution_count": 18,
   "id": "secondary-aquarium",
   "metadata": {},
   "outputs": [
    {
     "data": {
      "text/plain": [
       "array([False,  True,  True, ..., False, False, False])"
      ]
     },
     "execution_count": 18,
     "metadata": {},
     "output_type": "execute_result"
    }
   ],
   "source": [
    "mask"
   ]
  },
  {
   "cell_type": "code",
   "execution_count": 19,
   "id": "documentary-geology",
   "metadata": {},
   "outputs": [
    {
     "data": {
      "text/plain": [
       "(array([  1,   2,   3,   6,   8,  19, 101, 273, 503, 504, 505, 506, 507,\n",
       "        509, 510, 511, 512, 516, 517, 518, 530, 538, 539, 558, 562, 702,\n",
       "        703]),)"
      ]
     },
     "execution_count": 19,
     "metadata": {},
     "output_type": "execute_result"
    }
   ],
   "source": [
    "np.where(mask == 1.)"
   ]
  },
  {
   "cell_type": "code",
   "execution_count": 20,
   "id": "catholic-eight",
   "metadata": {},
   "outputs": [
    {
     "name": "stdout",
     "output_type": "stream",
     "text": [
      "4\n",
      "27\n",
      "0.14814814814814814\n"
     ]
    },
    {
     "data": {
      "text/plain": [
       "14.81"
      ]
     },
     "execution_count": 20,
     "metadata": {},
     "output_type": "execute_result"
    }
   ],
   "source": [
    "calc_accuracy(lbls_test[mask], 1-predictions[mask])"
   ]
  },
  {
   "cell_type": "code",
   "execution_count": null,
   "id": "modular-choir",
   "metadata": {},
   "outputs": [],
   "source": []
  }
 ],
 "metadata": {
  "kernelspec": {
   "display_name": "Python 3",
   "language": "python",
   "name": "python3"
  },
  "language_info": {
   "codemirror_mode": {
    "name": "ipython",
    "version": 3
   },
   "file_extension": ".py",
   "mimetype": "text/x-python",
   "name": "python",
   "nbconvert_exporter": "python",
   "pygments_lexer": "ipython3",
   "version": "3.9.5"
  }
 },
 "nbformat": 4,
 "nbformat_minor": 5
}
