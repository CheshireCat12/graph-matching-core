{
 "cells": [
  {
   "cell_type": "code",
   "execution_count": 14,
   "id": "separated-filling",
   "metadata": {},
   "outputs": [],
   "source": [
    "import numpy as np\n",
    "import scipy.stats as st\n",
    "from sklearn.metrics import precision_score, recall_score, f1_score\n",
    "import sklearn"
   ]
  },
  {
   "cell_type": "code",
   "execution_count": 66,
   "id": "acquired-january",
   "metadata": {},
   "outputs": [],
   "source": [
    "### Constantes ###\n",
    "DATASET_NAME = 'letter'\n",
    "# DATASET_NAME = 'AIDS'\n",
    "# DATASET_NAME = 'mutagenicity'\n",
    "# DATASET_NAME = 'NCI1'\n",
    "CENTRALITY_NAME = 'pagerank'\n",
    "EXPERIMENT = 'coarse_to_fine'\n",
    "AVERAGE = 'micro' if DATASET_NAME == 'letter' else 'binary'"
   ]
  },
  {
   "cell_type": "code",
   "execution_count": 67,
   "id": "paperback-durham",
   "metadata": {},
   "outputs": [],
   "source": [
    "def get_ground_truth():\n",
    "    filename = f'../results/h_knn/{DATASET_NAME}/prediction_100_{CENTRALITY_NAME}.npy'\n",
    "    return _get_data(filename)\n",
    "\n",
    "def get_data():\n",
    "    filename = f'../results/{EXPERIMENT}/{DATASET_NAME}/res_{CENTRALITY_NAME}_pt4.npy'\n",
    "    return _get_data(filename)\n",
    "\n",
    "def _get_data(filename):\n",
    "\n",
    "    with open(filename, 'rb') as f:\n",
    "        lbls_test = np.load(f)\n",
    "        predictions = np.load(f)\n",
    "    \n",
    "    return lbls_test, predictions\n",
    "\n",
    "def save_stats(message):\n",
    "    filename = f'statistics_{EXPERIMENT}_{DATASET_NAME}_{CENTRALITY_NAME}.txt'\n",
    "    with open(filename, 'w') as f:\n",
    "        f.write(message)"
   ]
  },
  {
   "cell_type": "code",
   "execution_count": 68,
   "id": "contemporary-palestinian",
   "metadata": {},
   "outputs": [],
   "source": [
    "def calc_accuracy(lbls_test, predictions):\n",
    "    correctly_classified = np.sum(lbls_test == predictions)\n",
    "    accuracy = 100 * (correctly_classified / len(lbls_test))\n",
    "    \n",
    "    return round(accuracy, 2)"
   ]
  },
  {
   "cell_type": "code",
   "execution_count": 69,
   "id": "turned-convention",
   "metadata": {},
   "outputs": [],
   "source": [
    "def get_X(lbls_test, predictions_100, predictions_to_test):\n",
    "    X_t = []\n",
    "    for ground_truth, pred_100, pred_to_test in zip(lbls_test, predictions_100, predictions_to_test):\n",
    "        is_100_correct = pred_100 == ground_truth\n",
    "        is_pred_to_test_correct = pred_to_test == ground_truth\n",
    "        val = 1 * (is_100_correct and not is_pred_to_test_correct) + \\\n",
    "            (-1) * (not is_100_correct and is_pred_to_test_correct)\n",
    "        X_t.append(val)\n",
    "            \n",
    "    return np.array(X_t)\n",
    "\n",
    "def calc_Z_score(lbls_test, predictions_100, predictions_to_test):\n",
    "    X_t = get_X(lbls_test, predictions_100, predictions_to_test)\n",
    "    \n",
    "    mu_x = np.mean(X_t)\n",
    "    var_x = np.var(X_t)\n",
    "    \n",
    "    Z = mu_x / (np.sqrt(var_x / len(lbls_test)))\n",
    "    \n",
    "    return Z"
   ]
  },
  {
   "cell_type": "code",
   "execution_count": 70,
   "id": "tight-gilbert",
   "metadata": {},
   "outputs": [
    {
     "name": "stdout",
     "output_type": "stream",
     "text": [
      "Accuracy ground truth: 89.33 Accuracy 82.27%\n",
      "Precision 0.82\n",
      "Recall 0.82\n",
      "F1-score 0.82\n",
      "\n",
      "Z score 6.03\n",
      "P-value 1.00\n",
      "Difference significantly worst (alpha=0.1): True\n",
      "-------\n",
      "\n"
     ]
    }
   ],
   "source": [
    "lbls_test, predictions_100 = get_ground_truth()\n",
    "alpha = 0.1\n",
    "\n",
    "\n",
    "message = ''\n",
    "\n",
    "_, predictions = get_data()\n",
    "\n",
    "accuracy_ground_truth = calc_accuracy(lbls_test, predictions_100)\n",
    "accuracy = calc_accuracy(lbls_test, predictions)\n",
    "z_score = calc_Z_score(lbls_test, predictions_100, predictions)\n",
    "p_value = st.norm.cdf(z_score)\n",
    "    \n",
    "\n",
    "message += f'Accuracy ground truth: {accuracy_ground_truth} '\n",
    "message += f'Accuracy {accuracy}%\\n'\n",
    "message += f'Precision {precision_score(lbls_test, predictions, average=AVERAGE):.2f}\\n'\n",
    "message += f'Recall {recall_score(lbls_test, predictions, average=AVERAGE):.2f}\\n'\n",
    "message += f'F1-score {f1_score(lbls_test, predictions, average=AVERAGE):.2f}\\n\\n'\n",
    "    \n",
    "message += f'Z score {z_score:.2f}\\n'\n",
    "message += f'P-value {p_value:.2f}\\n'\n",
    "    \n",
    "if z_score < 0:\n",
    "    message += f'Difference significantly better (alpha={alpha}): {p_value <= alpha}\\n'\n",
    "else:\n",
    "    message += f'Difference significantly worst (alpha={alpha}): {1-p_value <= alpha}\\n'\n",
    "message += '-------\\n'\n",
    "\n",
    "save_stats(message)\n",
    "print(message)"
   ]
  },
  {
   "cell_type": "code",
   "execution_count": null,
   "id": "specific-ending",
   "metadata": {},
   "outputs": [],
   "source": []
  },
  {
   "cell_type": "code",
   "execution_count": null,
   "id": "ceramic-monitor",
   "metadata": {},
   "outputs": [],
   "source": []
  }
 ],
 "metadata": {
  "kernelspec": {
   "display_name": "Python 3",
   "language": "python",
   "name": "python3"
  },
  "language_info": {
   "codemirror_mode": {
    "name": "ipython",
    "version": 3
   },
   "file_extension": ".py",
   "mimetype": "text/x-python",
   "name": "python",
   "nbconvert_exporter": "python",
   "pygments_lexer": "ipython3",
   "version": "3.9.2"
  }
 },
 "nbformat": 4,
 "nbformat_minor": 5
}
