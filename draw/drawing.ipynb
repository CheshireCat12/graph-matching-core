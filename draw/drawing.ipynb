{
 "cells": [
  {
   "cell_type": "code",
   "execution_count": 1,
   "metadata": {},
   "outputs": [],
   "source": [
    "# load Preliminaries\n",
    "from IPython.core.display import display, HTML\n",
    "from string import Template\n",
    "import pandas as pd\n",
    "import json, random\n",
    "import networkx as nx"
   ]
  },
  {
   "cell_type": "code",
   "execution_count": 64,
   "metadata": {},
   "outputs": [],
   "source": [
    "###### Parameters #######\n",
    "DATASETS = ['letter', 'AIDS', 'mutagenicity']\n",
    "dataset = DATASETS[0]"
   ]
  },
  {
   "cell_type": "code",
   "execution_count": 65,
   "metadata": {},
   "outputs": [
    {
     "data": {
      "text/html": [
       "\n",
       "<script src=\"./sigma.min.js\"></script>\n",
       "<script src=\"./sigma-add-method-neighbors.js\"></script>\n",
       "\n"
      ],
      "text/plain": [
       "<IPython.core.display.HTML object>"
      ]
     },
     "execution_count": 65,
     "metadata": {},
     "output_type": "execute_result"
    }
   ],
   "source": [
    "# loading the engines locally along with plug-in.\n",
    "HTML('''\n",
    "<script src=\"./sigma.min.js\"></script>\n",
    "<script src=\"./sigma-add-method-neighbors.js\"></script>\n",
    "\n",
    "''')\n",
    "\n",
    "#<style>\n",
    "      #graph-div {\n",
    " #       width: 800px;\n",
    "  #      height: 800px;\n",
    "   #     -webkit-transform: rotate(180deg);\n",
    "    #    -moz-transform: rotate(180deg);\n",
    "     #   -o-transform: rotate(180deg);\n",
    "      #  transform: rotate(180deg);\n",
    "      #}\n",
    "    #</style>"
   ]
  },
  {
   "cell_type": "code",
   "execution_count": 66,
   "metadata": {},
   "outputs": [
    {
     "name": "stdout",
     "output_type": "stream",
     "text": [
      "{'nodes': [{'id': '0', 'label': 'PageRank: 0.154; x:0.687437, y:0.271509', 'x': 0.687, 'y': 0.272, 'size': 0.154}, {'id': '1', 'label': 'PageRank: 0.292; x:1.39826, y:1.84766', 'x': 1.398, 'y': 1.848, 'size': 0.292}, {'id': '2', 'label': 'PageRank: 0.154; x:3.14525, y:0.904519', 'x': 3.145, 'y': 0.905, 'size': 0.154}, {'id': '3', 'label': 'PageRank: 0.2; x:0.93198, y:1.37192', 'x': 0.932, 'y': 1.372, 'size': 0.2}, {'id': '4', 'label': 'PageRank: 0.2; x:2.00406, y:1.48344', 'x': 2.004, 'y': 1.483, 'size': 0.2}], 'edges': [{'id': '0', 'source': '0', 'target': '1', 'label': '0'}, {'id': '1', 'source': '1', 'target': '2', 'label': '0'}, {'id': '2', 'source': '2', 'target': '1', 'label': '0'}, {'id': '3', 'source': '3', 'target': '4', 'label': '0'}, {'id': '4', 'source': '4', 'target': '3', 'label': '0'}, {'id': '5', 'source': '1', 'target': '0', 'label': '0'}]}\n"
     ]
    }
   ],
   "source": [
    "filename = '../results/draw/letter/AP1_0000.json'\n",
    "# filename = '../results/draw/AIDS/molid2184.json'\n",
    "# filename = '../results/draw/mutagenicity/molecule_1.json'\n",
    "with open(filename, mode='r') as fp:\n",
    "    data = json.load(fp) #.readlines()\n",
    "#data = json.load()\n",
    "print(data)"
   ]
  },
  {
   "cell_type": "code",
   "execution_count": 67,
   "metadata": {},
   "outputs": [],
   "source": [
    "graph_data = data"
   ]
  },
  {
   "cell_type": "code",
   "execution_count": 73,
   "metadata": {},
   "outputs": [],
   "source": [
    "if dataset == 'mutagenicity':\n",
    "    nx_graph = nx.Graph()\n",
    "    for node in graph_data['nodes']:\n",
    "        nx_graph.add_node(node['id'])\n",
    "    \n",
    "    for edge in graph_data['edges']:\n",
    "        nx_graph.add_edge(edge['source'], edge['target'], weight=int(edge['label']))\n",
    "    \n",
    "    # pos = nx.drawing.layout.spring_layout(nx_graph, iterations=2500, center=[0.0, 0.0], seed=42)\n",
    "    pos = nx.drawing.layout.kamada_kawai_layout(nx_graph)\n",
    "\n",
    "    for node in graph_data['nodes']:\n",
    "        node['x'], node['y'] = pos[node['id']]"
   ]
  },
  {
   "cell_type": "code",
   "execution_count": 69,
   "metadata": {},
   "outputs": [],
   "source": [
    "js_text_template = Template('''\n",
    "    \n",
    "    var g = $graph_data ;\n",
    "\n",
    "s = new sigma({graph: g, container: '$container', settings: { defaultNodeColor: '#ec5148', labelThreshold: 6, scalingMode: 'inside'} });\n",
    "\n",
    "s.graph.nodes().forEach(function(n) {\n",
    "  n.originalColor = n.color;\n",
    "});\n",
    "s.graph.edges().forEach(function(e) {\n",
    "  e.originalColor = e.color;\n",
    "});\n",
    "\n",
    "s.bind('clickNode', function(e) {\n",
    "  var nodeId = e.data.node.id,\n",
    "      toKeep = s.graph.neighbors(nodeId);\n",
    "  toKeep[nodeId] = e.data.node;\n",
    "\n",
    "  s.graph.nodes().forEach(function(n) {\n",
    "    if (toKeep[n.id])\n",
    "      n.color = n.originalColor;\n",
    "    else\n",
    "      n.color = '#eee';\n",
    "  });\n",
    "\n",
    "  s.graph.edges().forEach(function(e) {\n",
    "    if (toKeep[e.source] && toKeep[e.target])\n",
    "      e.color = e.originalColor;\n",
    "    else\n",
    "      e.color = '#eee';\n",
    "  });\n",
    "\n",
    "  s.refresh();\n",
    "});\n",
    "\n",
    "s.bind('clickStage', function(e) {\n",
    "  s.graph.nodes().forEach(function(n) {\n",
    "    n.color = n.originalColor;\n",
    "  });\n",
    "\n",
    "  s.graph.edges().forEach(function(e) {\n",
    "    e.color = e.originalColor;\n",
    "  });\n",
    "\n",
    "  s.refresh();\n",
    "});\n",
    "\n",
    "\n",
    "''')"
   ]
  },
  {
   "cell_type": "code",
   "execution_count": 70,
   "metadata": {},
   "outputs": [],
   "source": [
    "js_text = js_text_template.substitute({'graph_data': json.dumps(graph_data),\n",
    "                                       'container': 'graph-div'})\n"
   ]
  },
  {
   "cell_type": "code",
   "execution_count": 71,
   "metadata": {},
   "outputs": [],
   "source": [
    "html_template = Template('''\n",
    "<div id=\"graph-div\" style=\"height:800px\"></div>\n",
    "<script> $js_text </script>\n",
    "''')"
   ]
  },
  {
   "cell_type": "code",
   "execution_count": 72,
   "metadata": {},
   "outputs": [
    {
     "data": {
      "text/html": [
       "\n",
       "<div id=\"graph-div\" style=\"height:800px\"></div>\n",
       "<script> \n",
       "    \n",
       "    var g = {\"nodes\": [{\"id\": \"0\", \"label\": \"PageRank: 0.154; x:0.687437, y:0.271509\", \"x\": 0.687, \"y\": 0.272, \"size\": 0.154}, {\"id\": \"1\", \"label\": \"PageRank: 0.292; x:1.39826, y:1.84766\", \"x\": 1.398, \"y\": 1.848, \"size\": 0.292}, {\"id\": \"2\", \"label\": \"PageRank: 0.154; x:3.14525, y:0.904519\", \"x\": 3.145, \"y\": 0.905, \"size\": 0.154}, {\"id\": \"3\", \"label\": \"PageRank: 0.2; x:0.93198, y:1.37192\", \"x\": 0.932, \"y\": 1.372, \"size\": 0.2}, {\"id\": \"4\", \"label\": \"PageRank: 0.2; x:2.00406, y:1.48344\", \"x\": 2.004, \"y\": 1.483, \"size\": 0.2}], \"edges\": [{\"id\": \"0\", \"source\": \"0\", \"target\": \"1\", \"label\": \"0\"}, {\"id\": \"1\", \"source\": \"1\", \"target\": \"2\", \"label\": \"0\"}, {\"id\": \"2\", \"source\": \"2\", \"target\": \"1\", \"label\": \"0\"}, {\"id\": \"3\", \"source\": \"3\", \"target\": \"4\", \"label\": \"0\"}, {\"id\": \"4\", \"source\": \"4\", \"target\": \"3\", \"label\": \"0\"}, {\"id\": \"5\", \"source\": \"1\", \"target\": \"0\", \"label\": \"0\"}]} ;\n",
       "\n",
       "s = new sigma({graph: g, container: 'graph-div', settings: { defaultNodeColor: '#ec5148', labelThreshold: 6, scalingMode: 'inside'} });\n",
       "\n",
       "s.graph.nodes().forEach(function(n) {\n",
       "  n.originalColor = n.color;\n",
       "});\n",
       "s.graph.edges().forEach(function(e) {\n",
       "  e.originalColor = e.color;\n",
       "});\n",
       "\n",
       "s.bind('clickNode', function(e) {\n",
       "  var nodeId = e.data.node.id,\n",
       "      toKeep = s.graph.neighbors(nodeId);\n",
       "  toKeep[nodeId] = e.data.node;\n",
       "\n",
       "  s.graph.nodes().forEach(function(n) {\n",
       "    if (toKeep[n.id])\n",
       "      n.color = n.originalColor;\n",
       "    else\n",
       "      n.color = '#eee';\n",
       "  });\n",
       "\n",
       "  s.graph.edges().forEach(function(e) {\n",
       "    if (toKeep[e.source] && toKeep[e.target])\n",
       "      e.color = e.originalColor;\n",
       "    else\n",
       "      e.color = '#eee';\n",
       "  });\n",
       "\n",
       "  s.refresh();\n",
       "});\n",
       "\n",
       "s.bind('clickStage', function(e) {\n",
       "  s.graph.nodes().forEach(function(n) {\n",
       "    n.color = n.originalColor;\n",
       "  });\n",
       "\n",
       "  s.graph.edges().forEach(function(e) {\n",
       "    e.color = e.originalColor;\n",
       "  });\n",
       "\n",
       "  s.refresh();\n",
       "});\n",
       "\n",
       "\n",
       " </script>\n"
      ],
      "text/plain": [
       "<IPython.core.display.HTML object>"
      ]
     },
     "execution_count": 72,
     "metadata": {},
     "output_type": "execute_result"
    }
   ],
   "source": [
    "HTML(html_template.substitute({'js_text': js_text}))"
   ]
  },
  {
   "cell_type": "code",
   "execution_count": null,
   "metadata": {},
   "outputs": [],
   "source": []
  },
  {
   "cell_type": "code",
   "execution_count": null,
   "metadata": {},
   "outputs": [],
   "source": []
  },
  {
   "cell_type": "code",
   "execution_count": null,
   "metadata": {},
   "outputs": [],
   "source": []
  }
 ],
 "metadata": {
  "kernelspec": {
   "display_name": "Python 3",
   "language": "python",
   "name": "python3"
  },
  "language_info": {
   "codemirror_mode": {
    "name": "ipython",
    "version": 3
   },
   "file_extension": ".py",
   "mimetype": "text/x-python",
   "name": "python",
   "nbconvert_exporter": "python",
   "pygments_lexer": "ipython3",
   "version": "3.9.1"
  }
 },
 "nbformat": 4,
 "nbformat_minor": 1
}
