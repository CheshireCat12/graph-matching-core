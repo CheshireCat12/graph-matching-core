{
 "cells": [
  {
   "cell_type": "code",
   "execution_count": 36,
   "metadata": {},
   "outputs": [],
   "source": [
    "# load Preliminaries\n",
    "from IPython.core.display import display, HTML\n",
    "from string import Template\n",
    "import pandas as pd\n",
    "import json, random\n",
    "import networkx as nx\n",
    "import os\n",
    "from glob import glob\n"
   ]
  },
  {
   "cell_type": "code",
   "execution_count": 2,
   "metadata": {},
   "outputs": [],
   "source": [
    "###### Parameters #######\n",
    "DATASETS = [{'name': 'letter', 'threshold': 1},\n",
    "            {'name': 'AIDS', 'threshold': 1},\n",
    "            {'name': 'mutagenicity', 'threshold': 5}]\n",
    "idx = 0\n",
    "dataset = DATASETS[idx]['name']\n",
    "threshold = DATASETS[idx]['threshold']\n",
    "folder = os.path.join('../results/draw/', dataset, '')\n",
    "experiment = 'pagerank'"
   ]
  },
  {
   "cell_type": "code",
   "execution_count": 3,
   "metadata": {},
   "outputs": [
    {
     "name": "stdout",
     "output_type": "stream",
     "text": [
      "../results/draw/letter/pagerank_WP1_0016.json\n",
      "../results/draw/letter/pagerank_EP1_0149.json\n",
      "../results/draw/letter/pagerank_NP1_0064.json\n",
      "../results/draw/letter/pagerank_WP1_0087.json\n",
      "../results/draw/letter/pagerank_LP1_0018.json\n",
      "../results/draw/letter/pagerank_KP1_0144.json\n",
      "../results/draw/letter/pagerank_MP1_0031.json\n",
      "../results/draw/letter/pagerank_VP1_0093.json\n",
      "../results/draw/letter/pagerank_LP1_0071.json\n",
      "../results/draw/letter/pagerank_KP1_0053.json\n"
     ]
    }
   ],
   "source": [
    "###### Data ######\n",
    "graphs = []\n",
    "\n",
    "for filename in glob(f'{folder}*.json'):\n",
    "    if not filename.split('/')[-1].startswith(experiment):\n",
    "        continue\n",
    "    print(filename)\n",
    "    with open(filename, mode='r') as fp:\n",
    "        tmp_graph = json.load(fp)\n",
    "        graphs.append(tmp_graph)\n",
    "        \n",
    "# print(*graphs, sep='\\n\\n')"
   ]
  },
  {
   "cell_type": "code",
   "execution_count": 4,
   "metadata": {},
   "outputs": [
    {
     "data": {
      "text/html": [
       "\n",
       "<script src=\"./sigma.min.js\"></script>\n",
       "<script src=\"./sigma.exporters.svg.js\"></script>\n"
      ],
      "text/plain": [
       "<IPython.core.display.HTML object>"
      ]
     },
     "execution_count": 4,
     "metadata": {},
     "output_type": "execute_result"
    }
   ],
   "source": [
    "# loading the engines locally along with plug-in.\n",
    "HTML('''\n",
    "<script src=\"./sigma.min.js\"></script>\n",
    "<script src=\"./sigma.exporters.svg.js\"></script>\n",
    "''')"
   ]
  },
  {
   "cell_type": "code",
   "execution_count": 5,
   "metadata": {},
   "outputs": [],
   "source": [
    "if dataset == 'mutagenicity':\n",
    "    for graph in graphs:\n",
    "        nx_graph = nx.Graph()\n",
    "        for node in graph['nodes']:\n",
    "            nx_graph.add_node(node['id'])\n",
    "    \n",
    "        for edge in graph['edges']:\n",
    "            nx_graph.add_edge(edge['source'], edge['target'], weight=int(edge['label']))\n",
    "    \n",
    "        # pos = nx.drawing.layout.spring_layout(nx_graph, iterations=2500, center=[0.0, 0.0], seed=42)\n",
    "        pos = nx.drawing.layout.kamada_kawai_layout(nx_graph)\n",
    "\n",
    "        for node in graph['nodes']:\n",
    "            node['x'], node['y'] = pos[node['id']]"
   ]
  },
  {
   "cell_type": "code",
   "execution_count": 6,
   "metadata": {},
   "outputs": [],
   "source": [
    "js_text_template = Template('''\n",
    "\n",
    "    var g = $graph_data ;\n",
    "\n",
    "s = new sigma({graph: g, container: '$container', settings: { defaultNodeColor: '#ec5148', labelThreshold: $threshold, zoomingRatio:1.4} });\n",
    "\n",
    "s.graph.nodes().forEach(function(n) {\n",
    "  n.originalColor = n.color;\n",
    "});\n",
    "s.graph.edges().forEach(function(e) {\n",
    "  e.originalColor = e.color;\n",
    "});\n",
    "\n",
    "s.bind('clickNode', function(e) {\n",
    "  var nodeId = e.data.node.id,\n",
    "      toKeep = s.graph.neighbors(nodeId);\n",
    "  toKeep[nodeId] = e.data.node;\n",
    "\n",
    "  s.graph.nodes().forEach(function(n) {\n",
    "    if (toKeep[n.id])\n",
    "      n.color = n.originalColor;\n",
    "    else\n",
    "      n.color = '#eee';\n",
    "  });\n",
    "\n",
    "  s.graph.edges().forEach(function(e) {\n",
    "    if (toKeep[e.source] && toKeep[e.target])\n",
    "      e.color = e.originalColor;\n",
    "    else\n",
    "      e.color = '#eee';\n",
    "  });\n",
    "\n",
    "  s.refresh();\n",
    "});\n",
    "\n",
    "s.bind('clickStage', function(e) {\n",
    "  s.graph.nodes().forEach(function(n) {\n",
    "    n.color = n.originalColor;\n",
    "  });\n",
    "\n",
    "  s.graph.edges().forEach(function(e) {\n",
    "    e.color = e.originalColor;\n",
    "  });\n",
    "\n",
    "  s.refresh();\n",
    "});\n",
    "\n",
    "s.refresh();\n",
    "document.getElementById('export').onclick = function() {\n",
    "  console.log('exporting...');\n",
    "  var output = s.toSVG({download: true, filename: 'mygraph.svg'});\n",
    "  // console.log(output);\n",
    "};\n",
    "\n",
    "\n",
    "''')"
   ]
  },
  {
   "cell_type": "code",
   "execution_count": 7,
   "metadata": {},
   "outputs": [],
   "source": [
    "html_template = Template('''\n",
    "\n",
    "<div id=\"graph-div\" style=\"height:800px\"></div>\n",
    "<button id=\"export\" type=\"export\">Export</button>\n",
    "\n",
    "<script> $js_text </script>\n",
    "''')"
   ]
  },
  {
   "cell_type": "code",
   "execution_count": 19,
   "metadata": {},
   "outputs": [
    {
     "name": "stdout",
     "output_type": "stream",
     "text": [
      "\n",
      "\n",
      "    var g = {\"nodes\": [{\"id\": \"0\", \"label\": \"PageRank: 0.135; x:1.2539, y:2.64718\", \"x\": 1.254, \"y\": 2.647, \"size\": 0.135}, {\"id\": \"1\", \"label\": \"PageRank: 0.135; x:2.03182, y:2.6404\", \"x\": 2.032, \"y\": 2.64, \"size\": 0.135}, {\"id\": \"2\", \"label\": \"PageRank: 0.246; x:0.607491, y:0.548618\", \"x\": 0.607, \"y\": 0.549, \"size\": 0.246}, {\"id\": \"3\", \"label\": \"PageRank: 0.246; x:0.463816, y:1.64694\", \"x\": 0.464, \"y\": 1.647, \"size\": 0.246}, {\"id\": \"4\", \"label\": \"PageRank: 0.239; x:2.01086, y:0.560525\", \"x\": 2.011, \"y\": 0.561, \"size\": 0.239}], \"edges\": [{\"id\": \"0\", \"source\": \"2\", \"target\": \"4\", \"label\": \"0\"}, {\"id\": \"1\", \"source\": \"3\", \"target\": \"4\", \"label\": \"0\"}, {\"id\": \"2\", \"source\": \"4\", \"target\": \"3\", \"label\": \"0\"}, {\"id\": \"3\", \"source\": \"3\", \"target\": \"1\", \"label\": \"0\"}, {\"id\": \"4\", \"source\": \"2\", \"target\": \"0\", \"label\": \"0\"}, {\"id\": \"5\", \"source\": \"4\", \"target\": \"2\", \"label\": \"0\"}, {\"id\": \"6\", \"source\": \"0\", \"target\": \"2\", \"label\": \"0\"}, {\"id\": \"7\", \"source\": \"1\", \"target\": \"3\", \"label\": \"0\"}]} ;\n",
      "\n",
      "s = new sigma({graph: g, container: 'graph-div', settings: { defaultNodeColor: '#ec5148', labelThreshold: 1, zoomingRatio:1.4} });\n",
      "\n",
      "s.graph.nodes().forEach(function(n) {\n",
      "  n.originalColor = n.color;\n",
      "});\n",
      "s.graph.edges().forEach(function(e) {\n",
      "  e.originalColor = e.color;\n",
      "});\n",
      "\n",
      "s.bind('clickNode', function(e) {\n",
      "  var nodeId = e.data.node.id,\n",
      "      toKeep = s.graph.neighbors(nodeId);\n",
      "  toKeep[nodeId] = e.data.node;\n",
      "\n",
      "  s.graph.nodes().forEach(function(n) {\n",
      "    if (toKeep[n.id])\n",
      "      n.color = n.originalColor;\n",
      "    else\n",
      "      n.color = '#eee';\n",
      "  });\n",
      "\n",
      "  s.graph.edges().forEach(function(e) {\n",
      "    if (toKeep[e.source] && toKeep[e.target])\n",
      "      e.color = e.originalColor;\n",
      "    else\n",
      "      e.color = '#eee';\n",
      "  });\n",
      "\n",
      "  s.refresh();\n",
      "});\n",
      "\n",
      "s.bind('clickStage', function(e) {\n",
      "  s.graph.nodes().forEach(function(n) {\n",
      "    n.color = n.originalColor;\n",
      "  });\n",
      "\n",
      "  s.graph.edges().forEach(function(e) {\n",
      "    e.color = e.originalColor;\n",
      "  });\n",
      "\n",
      "  s.refresh();\n",
      "});\n",
      "\n",
      "s.refresh();\n",
      "document.getElementById('export').onclick = function() {\n",
      "  console.log('exporting...');\n",
      "  var output = s.toSVG({download: true, filename: 'mygraph.svg'});\n",
      "  // console.log(output);\n",
      "};\n",
      "\n",
      "\n",
      "\n",
      "test\n"
     ]
    }
   ],
   "source": [
    "idx_graph = 5\n",
    "graph_data = graphs[idx_graph]\n",
    "js_text = js_text_template.substitute({'graph_data': json.dumps(graph_data),\n",
    "                                       'container': 'graph-div',\n",
    "                                       'threshold': threshold\n",
    "                                      })\n",
    "\n",
    "print(js_text)\n",
    "# display(HTML(html_template.substitute({'js_text': js_text})))\n",
    "HTML(html_template.substitute({'js_text': js_text}))\n",
    "print('test')"
   ]
  },
  {
   "cell_type": "code",
   "execution_count": 9,
   "metadata": {},
   "outputs": [],
   "source": []
  },
  {
   "cell_type": "code",
   "execution_count": 14,
   "metadata": {},
   "outputs": [],
   "source": [
    "try:\n",
    "    # create the API client instance\n",
    "    client = pdfcrowd.HtmlToImageClient('demo', 'ce544b6ea52a5621fb9d55f8b542d14d')\n",
    "\n",
    "    # configure the conversion\n",
    "    client.setOutputFormat('png')\n",
    "\n",
    "    # run the conversion and write the result to a file\n",
    "    client.convertStringToFile(, 'HelloWorld.png')\n",
    "except pdfcrowd.Error as why:\n",
    "    # report the error\n",
    "    sys.stderr.write('Pdfcrowd Error: {}\\n'.format(why))\n",
    "\n",
    "    # rethrow or handle the exception\n",
    "    raise"
   ]
  },
  {
   "cell_type": "code",
   "execution_count": 34,
   "metadata": {},
   "outputs": [],
   "source": [
    "# print(html_template.substitute({'js_text': js_text}))\n",
    "s = html_template.substitute({'js_text': js_text})\n"
   ]
  },
  {
   "cell_type": "code",
   "execution_count": 17,
   "metadata": {},
   "outputs": [],
   "source": [
    "general_template = Template('''\n",
    " <!DOCTYPE html>\n",
    "<html>\n",
    "<head>\n",
    "<title>Page Title</title>\n",
    "</head>\n",
    "<body>\n",
    "</body>\n",
    "<script src=\"./sigma.min.js\"></script>\n",
    "<script src=\"./sigma.exporters.svg.js\"></script>\n",
    "$test\n",
    "</html>\n",
    "''')"
   ]
  },
  {
   "cell_type": "code",
   "execution_count": 33,
   "metadata": {},
   "outputs": [],
   "source": [
    "val = general_template.substitute({'test': s})"
   ]
  },
  {
   "cell_type": "code",
   "execution_count": 35,
   "metadata": {},
   "outputs": [],
   "source": [
    "try:\n",
    "    # create the API client instance\n",
    "    client = pdfcrowd.HtmlToImageClient('demo', 'ce544b6ea52a5621fb9d55f8b542d14d')\n",
    "\n",
    "    # configure the conversion\n",
    "    client.setOutputFormat('png')\n",
    "\n",
    "    # run the conversion and write the result to a file\n",
    "    client.convertStringToFile(val, 'HelloWorld.png')\n",
    "except pdfcrowd.Error as why:\n",
    "    # report the error\n",
    "    sys.stderr.write('Pdfcrowd Error: {}\\n'.format(why))\n",
    "\n",
    "    # rethrow or handle the exception\n",
    "    raise"
   ]
  },
  {
   "cell_type": "code",
   "execution_count": 38,
   "metadata": {},
   "outputs": [
    {
     "ename": "OSError",
     "evalue": "wkhtmltopdf reported an error:\nLoading page (1/2)\n[>                                                           ] 0%\r[==============================>                             ] 50%\rWarning: Blocked access to file                                   \nWarning: Blocked access to file \nError: Failed to load about:blank, with network status code 301 and http status code 0 - Protocol \"about\" is unknown\nError: Failed to load about:blank, with network status code 301 and http status code 0 - Protocol \"about\" is unknown\n[============================================================] 100%\rPrinting pages (2/2)                                               \n[>                                                           ] \rDone                                                           \nExit with code 1 due to network error: ProtocolUnknownError\n",
     "output_type": "error",
     "traceback": [
      "\u001b[0;31m---------------------------------------------------------------------------\u001b[0m",
      "\u001b[0;31mOSError\u001b[0m                                   Traceback (most recent call last)",
      "\u001b[0;32m<ipython-input-38-0aafbbe3eb7d>\u001b[0m in \u001b[0;36m<module>\u001b[0;34m\u001b[0m\n\u001b[0;32m----> 1\u001b[0;31m \u001b[0mpdfkit\u001b[0m\u001b[0;34m.\u001b[0m\u001b[0mfrom_string\u001b[0m\u001b[0;34m(\u001b[0m\u001b[0mval\u001b[0m\u001b[0;34m,\u001b[0m \u001b[0;34m'test.pdf'\u001b[0m\u001b[0;34m)\u001b[0m\u001b[0;34m\u001b[0m\u001b[0;34m\u001b[0m\u001b[0m\n\u001b[0m",
      "\u001b[0;32m~/.local/lib/python3.9/site-packages/pdfkit/api.py\u001b[0m in \u001b[0;36mfrom_string\u001b[0;34m(input, output_path, options, toc, cover, css, configuration, cover_first)\u001b[0m\n\u001b[1;32m     70\u001b[0m                configuration=configuration, cover_first=cover_first)\n\u001b[1;32m     71\u001b[0m \u001b[0;34m\u001b[0m\u001b[0m\n\u001b[0;32m---> 72\u001b[0;31m     \u001b[0;32mreturn\u001b[0m \u001b[0mr\u001b[0m\u001b[0;34m.\u001b[0m\u001b[0mto_pdf\u001b[0m\u001b[0;34m(\u001b[0m\u001b[0moutput_path\u001b[0m\u001b[0;34m)\u001b[0m\u001b[0;34m\u001b[0m\u001b[0;34m\u001b[0m\u001b[0m\n\u001b[0m\u001b[1;32m     73\u001b[0m \u001b[0;34m\u001b[0m\u001b[0m\n\u001b[1;32m     74\u001b[0m \u001b[0;34m\u001b[0m\u001b[0m\n",
      "\u001b[0;32m~/.local/lib/python3.9/site-packages/pdfkit/pdfkit.py\u001b[0m in \u001b[0;36mto_pdf\u001b[0;34m(self, path)\u001b[0m\n\u001b[1;32m    154\u001b[0m \u001b[0;34m\u001b[0m\u001b[0m\n\u001b[1;32m    155\u001b[0m         \u001b[0;32mif\u001b[0m \u001b[0;34m'Error'\u001b[0m \u001b[0;32min\u001b[0m \u001b[0mstderr\u001b[0m\u001b[0;34m:\u001b[0m\u001b[0;34m\u001b[0m\u001b[0;34m\u001b[0m\u001b[0m\n\u001b[0;32m--> 156\u001b[0;31m             \u001b[0;32mraise\u001b[0m \u001b[0mIOError\u001b[0m\u001b[0;34m(\u001b[0m\u001b[0;34m'wkhtmltopdf reported an error:\\n'\u001b[0m \u001b[0;34m+\u001b[0m \u001b[0mstderr\u001b[0m\u001b[0;34m)\u001b[0m\u001b[0;34m\u001b[0m\u001b[0;34m\u001b[0m\u001b[0m\n\u001b[0m\u001b[1;32m    157\u001b[0m \u001b[0;34m\u001b[0m\u001b[0m\n\u001b[1;32m    158\u001b[0m         \u001b[0;32mif\u001b[0m \u001b[0mexit_code\u001b[0m \u001b[0;34m!=\u001b[0m \u001b[0;36m0\u001b[0m\u001b[0;34m:\u001b[0m\u001b[0;34m\u001b[0m\u001b[0;34m\u001b[0m\u001b[0m\n",
      "\u001b[0;31mOSError\u001b[0m: wkhtmltopdf reported an error:\nLoading page (1/2)\n[>                                                           ] 0%\r[==============================>                             ] 50%\rWarning: Blocked access to file                                   \nWarning: Blocked access to file \nError: Failed to load about:blank, with network status code 301 and http status code 0 - Protocol \"about\" is unknown\nError: Failed to load about:blank, with network status code 301 and http status code 0 - Protocol \"about\" is unknown\n[============================================================] 100%\rPrinting pages (2/2)                                               \n[>                                                           ] \rDone                                                           \nExit with code 1 due to network error: ProtocolUnknownError\n"
     ]
    }
   ],
   "source": []
  },
  {
   "cell_type": "code",
   "execution_count": null,
   "metadata": {},
   "outputs": [],
   "source": []
  }
 ],
 "metadata": {
  "kernelspec": {
   "display_name": "Python 3",
   "language": "python",
   "name": "python3"
  },
  "language_info": {
   "codemirror_mode": {
    "name": "ipython",
    "version": 3
   },
   "file_extension": ".py",
   "mimetype": "text/x-python",
   "name": "python",
   "nbconvert_exporter": "python",
   "pygments_lexer": "ipython3",
   "version": "3.9.1"
  }
 },
 "nbformat": 4,
 "nbformat_minor": 1
}
