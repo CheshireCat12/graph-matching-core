{
 "cells": [
  {
   "cell_type": "code",
   "execution_count": 1,
   "metadata": {},
   "outputs": [],
   "source": [
    "# load Preliminaries\n",
    "from IPython.core.display import display, HTML\n",
    "from string import Template\n",
    "import pandas as pd\n",
    "import json, random\n",
    "import networkx as nx\n",
    "import os\n",
    "from glob import glob"
   ]
  },
  {
   "cell_type": "code",
   "execution_count": null,
   "metadata": {},
   "outputs": [],
   "source": [
    "# !!!!!!! think to run 'python main.py -e draw' with the save_json activated !!!!!"
   ]
  },
  {
   "cell_type": "code",
   "execution_count": 2,
   "metadata": {},
   "outputs": [],
   "source": [
    "###### Parameters #######\n",
    "DATASETS = [{'name': 'letter', 'threshold': 1},\n",
    "            {'name': 'AIDS', 'threshold': 1},\n",
    "            {'name': 'mutagenicity', 'threshold': 5}]\n",
    "idx = 1\n",
    "dataset = DATASETS[idx]['name']\n",
    "threshold = DATASETS[idx]['threshold']\n",
    "folder = os.path.join('../results/draw/', dataset, '')\n",
    "experiment = 'pagerank'"
   ]
  },
  {
   "cell_type": "code",
   "execution_count": 3,
   "metadata": {},
   "outputs": [
    {
     "name": "stdout",
     "output_type": "stream",
     "text": [
      "../results/draw/AIDS/pagerank_molid669986.json\n",
      "../results/draw/AIDS/pagerank_molid646645.json\n",
      "../results/draw/AIDS/pagerank_molid369774.json\n",
      "../results/draw/AIDS/pagerank_molid663915.json\n",
      "../results/draw/AIDS/pagerank_molid686667.json\n",
      "../results/draw/AIDS/pagerank_molid634193.json\n",
      "../results/draw/AIDS/pagerank_molid30152.json\n",
      "../results/draw/AIDS/pagerank_molid680831.json\n",
      "../results/draw/AIDS/pagerank_molid684035.json\n",
      "../results/draw/AIDS/pagerank_molid646232.json\n"
     ]
    }
   ],
   "source": [
    "###### Data ######\n",
    "graphs = []\n",
    "print\n",
    "for filename in glob(f'{folder}*.json'):\n",
    "    if not filename.split('/')[-1].startswith(experiment):\n",
    "        continue\n",
    "    print(filename)\n",
    "    with open(filename, mode='r') as fp:\n",
    "        tmp_graph = json.load(fp)\n",
    "        graphs.append(tmp_graph)\n",
    "\n",
    "\n",
    "# print(*graphs, sep='\\n\\n')"
   ]
  },
  {
   "cell_type": "code",
   "execution_count": 4,
   "metadata": {},
   "outputs": [
    {
     "data": {
      "text/html": [
       "\n",
       "<script src=\"./sigma.min.js\"></script>\n"
      ],
      "text/plain": [
       "<IPython.core.display.HTML object>"
      ]
     },
     "execution_count": 4,
     "metadata": {},
     "output_type": "execute_result"
    }
   ],
   "source": [
    "# loading the engines locally along with plug-in.\n",
    "HTML('''\n",
    "<script src=\"./sigma.min.js\"></script>\n",
    "''')"
   ]
  },
  {
   "cell_type": "code",
   "execution_count": 5,
   "metadata": {},
   "outputs": [],
   "source": [
    "if dataset == 'mutagenicity':\n",
    "    for graph in graphs:\n",
    "        nx_graph = nx.Graph()\n",
    "        for node in graph['nodes']:\n",
    "            nx_graph.add_node(node['id'])\n",
    "    \n",
    "        for edge in graph['edges']:\n",
    "            nx_graph.add_edge(edge['source'], edge['target'], weight=int(edge['label']))\n",
    "    \n",
    "        # pos = nx.drawing.layout.spring_layout(nx_graph, iterations=2500, center=[0.0, 0.0], seed=42)\n",
    "        pos = nx.drawing.layout.kamada_kawai_layout(nx_graph)\n",
    "\n",
    "        for node in graph['nodes']:\n",
    "            node['x'], node['y'] = pos[node['id']]"
   ]
  },
  {
   "cell_type": "code",
   "execution_count": 6,
   "metadata": {},
   "outputs": [],
   "source": [
    "js_text_template = Template('''\n",
    "\n",
    "    var g = $graph_data ;\n",
    "\n",
    "s = new sigma({graph: g, container: '$container', settings: { defaultNodeColor: '#ec5148', labelThreshold: $threshold, zoomingRatio:1.4} });\n",
    "\n",
    "s.graph.nodes().forEach(function(n) {\n",
    "  n.originalColor = n.color;\n",
    "});\n",
    "s.graph.edges().forEach(function(e) {\n",
    "  e.originalColor = e.color;\n",
    "});\n",
    "\n",
    "s.bind('clickNode', function(e) {\n",
    "  var nodeId = e.data.node.id,\n",
    "      toKeep = s.graph.neighbors(nodeId);\n",
    "  toKeep[nodeId] = e.data.node;\n",
    "\n",
    "  s.graph.nodes().forEach(function(n) {\n",
    "    if (toKeep[n.id])\n",
    "      n.color = n.originalColor;\n",
    "    else\n",
    "      n.color = '#eee';\n",
    "  });\n",
    "\n",
    "  s.graph.edges().forEach(function(e) {\n",
    "    if (toKeep[e.source] && toKeep[e.target])\n",
    "      e.color = e.originalColor;\n",
    "    else\n",
    "      e.color = '#eee';\n",
    "  });\n",
    "\n",
    "  s.refresh();\n",
    "});\n",
    "\n",
    "s.bind('clickStage', function(e) {\n",
    "  s.graph.nodes().forEach(function(n) {\n",
    "    n.color = n.originalColor;\n",
    "  });\n",
    "\n",
    "  s.graph.edges().forEach(function(e) {\n",
    "    e.color = e.originalColor;\n",
    "  });\n",
    "\n",
    "  s.refresh();\n",
    "});\n",
    "\n",
    "s.refresh();\n",
    "\n",
    "// Listeners\n",
    "var force = false;\n",
    "document.getElementById('layout').onclick = function() {\n",
    "  if (!force)\n",
    "    s.startForceAtlas2({worker: true});\n",
    "  else\n",
    "    s.stopForceAtlas2();\n",
    "  force = !force;\n",
    "};\n",
    "\n",
    "document.getElementById('export').onclick = function() {\n",
    "  console.log('exporting...');\n",
    "  var output = s.toSVG({download: true, filename: '$filename', size: 1000, labels: true});\n",
    "  // console.log(output);\n",
    "};\n",
    "\n",
    "// Initialize the dragNodes plugin:\n",
    "var dragListener = sigma.plugins.dragNodes(s, s.renderers[0]);\n",
    "\n",
    "dragListener.bind('startdrag', function(event) {\n",
    "  console.log(event);\n",
    "});\n",
    "dragListener.bind('drag', function(event) {\n",
    "  console.log(event);\n",
    "});\n",
    "dragListener.bind('drop', function(event) {\n",
    "  console.log(event);\n",
    "});\n",
    "dragListener.bind('dragend', function(event) {\n",
    "  console.log(event);\n",
    "});\n",
    "\n",
    "\n",
    "''')"
   ]
  },
  {
   "cell_type": "code",
   "execution_count": 7,
   "metadata": {},
   "outputs": [],
   "source": [
    "html_template = Template('''\n",
    "\n",
    "<div id=\"graph-div\" style=\"height:800px\"></div>\n",
    "<script> $js_text </script>\n",
    "''')"
   ]
  },
  {
   "cell_type": "code",
   "execution_count": 8,
   "metadata": {},
   "outputs": [
    {
     "data": {
      "text/html": [
       "\n",
       "\n",
       "<div id=\"graph-div\" style=\"height:800px\"></div>\n",
       "<script> \n",
       "\n",
       "    var g = {\"nodes\": [{\"id\": \"0\", \"label\": \"PageRank: 0.128; Element: N\", \"x\": 3.539, \"y\": 0.5, \"size\": 0.128}, {\"id\": \"1\", \"label\": \"PageRank: 0.09; Element: C\", \"x\": 4.49, \"y\": 0.809, \"size\": 0.09}, {\"id\": \"2\", \"label\": \"PageRank: 0.092; Element: C\", \"x\": 5.078, \"y\": 0.0, \"size\": 0.092}, {\"id\": \"3\", \"label\": \"PageRank: 0.136; Element: C\", \"x\": 4.49, \"y\": -0.809, \"size\": 0.136}, {\"id\": \"4\", \"label\": \"PageRank: 0.128; Element: N\", \"x\": 3.539, \"y\": -0.5, \"size\": 0.128}, {\"id\": \"5\", \"label\": \"PageRank: 0.09; Element: C\", \"x\": 2.588, \"y\": -0.809, \"size\": 0.09}, {\"id\": \"6\", \"label\": \"PageRank: 0.092; Element: C\", \"x\": 2.0, \"y\": 0.0, \"size\": 0.092}, {\"id\": \"7\", \"label\": \"PageRank: 0.136; Element: C\", \"x\": 2.588, \"y\": 0.809, \"size\": 0.136}, {\"id\": \"8\", \"label\": \"PageRank: 0.054; Element: O\", \"x\": 2.279, \"y\": 1.76, \"size\": 0.054}, {\"id\": \"9\", \"label\": \"PageRank: 0.054; Element: O\", \"x\": 4.799, \"y\": -1.76, \"size\": 0.054}], \"edges\": [{\"id\": \"0\", \"source\": \"4\", \"target\": \"0\", \"label\": \"1\"}, {\"id\": \"1\", \"source\": \"3\", \"target\": \"4\", \"label\": \"1\"}, {\"id\": \"2\", \"source\": \"4\", \"target\": \"3\", \"label\": \"1\"}, {\"id\": \"3\", \"source\": \"5\", \"target\": \"4\", \"label\": \"1\"}, {\"id\": \"4\", \"source\": \"1\", \"target\": \"0\", \"label\": \"1\"}, {\"id\": \"5\", \"source\": \"6\", \"target\": \"5\", \"label\": \"1\"}, {\"id\": \"6\", \"source\": \"4\", \"target\": \"5\", \"label\": \"1\"}, {\"id\": \"7\", \"source\": \"3\", \"target\": \"9\", \"label\": \"2\"}, {\"id\": \"8\", \"source\": \"5\", \"target\": \"6\", \"label\": \"1\"}, {\"id\": \"9\", \"source\": \"0\", \"target\": \"1\", \"label\": \"1\"}, {\"id\": \"10\", \"source\": \"0\", \"target\": \"7\", \"label\": \"1\"}, {\"id\": \"11\", \"source\": \"1\", \"target\": \"2\", \"label\": \"1\"}, {\"id\": \"12\", \"source\": \"0\", \"target\": \"4\", \"label\": \"1\"}, {\"id\": \"13\", \"source\": \"2\", \"target\": \"1\", \"label\": \"1\"}, {\"id\": \"14\", \"source\": \"7\", \"target\": \"0\", \"label\": \"1\"}, {\"id\": \"15\", \"source\": \"6\", \"target\": \"7\", \"label\": \"1\"}, {\"id\": \"16\", \"source\": \"7\", \"target\": \"6\", \"label\": \"1\"}, {\"id\": \"17\", \"source\": \"3\", \"target\": \"2\", \"label\": \"1\"}, {\"id\": \"18\", \"source\": \"9\", \"target\": \"3\", \"label\": \"2\"}, {\"id\": \"19\", \"source\": \"8\", \"target\": \"7\", \"label\": \"2\"}, {\"id\": \"20\", \"source\": \"2\", \"target\": \"3\", \"label\": \"1\"}, {\"id\": \"21\", \"source\": \"7\", \"target\": \"8\", \"label\": \"2\"}]} ;\n",
       "\n",
       "s = new sigma({graph: g, container: 'graph-div', settings: { defaultNodeColor: '#ec5148', labelThreshold: 1, zoomingRatio:1.4} });\n",
       "\n",
       "s.graph.nodes().forEach(function(n) {\n",
       "  n.originalColor = n.color;\n",
       "});\n",
       "s.graph.edges().forEach(function(e) {\n",
       "  e.originalColor = e.color;\n",
       "});\n",
       "\n",
       "s.bind('clickNode', function(e) {\n",
       "  var nodeId = e.data.node.id,\n",
       "      toKeep = s.graph.neighbors(nodeId);\n",
       "  toKeep[nodeId] = e.data.node;\n",
       "\n",
       "  s.graph.nodes().forEach(function(n) {\n",
       "    if (toKeep[n.id])\n",
       "      n.color = n.originalColor;\n",
       "    else\n",
       "      n.color = '#eee';\n",
       "  });\n",
       "\n",
       "  s.graph.edges().forEach(function(e) {\n",
       "    if (toKeep[e.source] && toKeep[e.target])\n",
       "      e.color = e.originalColor;\n",
       "    else\n",
       "      e.color = '#eee';\n",
       "  });\n",
       "\n",
       "  s.refresh();\n",
       "});\n",
       "\n",
       "s.bind('clickStage', function(e) {\n",
       "  s.graph.nodes().forEach(function(n) {\n",
       "    n.color = n.originalColor;\n",
       "  });\n",
       "\n",
       "  s.graph.edges().forEach(function(e) {\n",
       "    e.color = e.originalColor;\n",
       "  });\n",
       "\n",
       "  s.refresh();\n",
       "});\n",
       "\n",
       "s.refresh();\n",
       "\n",
       "// Listeners\n",
       "var force = false;\n",
       "document.getElementById('layout').onclick = function() {\n",
       "  if (!force)\n",
       "    s.startForceAtlas2({worker: true});\n",
       "  else\n",
       "    s.stopForceAtlas2();\n",
       "  force = !force;\n",
       "};\n",
       "\n",
       "document.getElementById('export').onclick = function() {\n",
       "  console.log('exporting...');\n",
       "  var output = s.toSVG({download: true, filename: 'test.svg', size: 1000, labels: true});\n",
       "  // console.log(output);\n",
       "};\n",
       "\n",
       "// Initialize the dragNodes plugin:\n",
       "var dragListener = sigma.plugins.dragNodes(s, s.renderers[0]);\n",
       "\n",
       "dragListener.bind('startdrag', function(event) {\n",
       "  console.log(event);\n",
       "});\n",
       "dragListener.bind('drag', function(event) {\n",
       "  console.log(event);\n",
       "});\n",
       "dragListener.bind('drop', function(event) {\n",
       "  console.log(event);\n",
       "});\n",
       "dragListener.bind('dragend', function(event) {\n",
       "  console.log(event);\n",
       "});\n",
       "\n",
       "\n",
       " </script>\n"
      ],
      "text/plain": [
       "<IPython.core.display.HTML object>"
      ]
     },
     "execution_count": 8,
     "metadata": {},
     "output_type": "execute_result"
    }
   ],
   "source": [
    "idx_graph = 5\n",
    "graph_data = graphs[idx_graph]\n",
    "js_text = js_text_template.substitute({'graph_data': json.dumps(graph_data),\n",
    "                                       'container': 'graph-div',\n",
    "                                       'threshold': threshold,\n",
    "                                       'filename': 'test.svg'\n",
    "                                      })\n",
    "HTML(html_template.substitute({'js_text': js_text}))"
   ]
  }
 ],
 "metadata": {
  "kernelspec": {
   "display_name": "Python 3",
   "language": "python",
   "name": "python3"
  },
  "language_info": {
   "codemirror_mode": {
    "name": "ipython",
    "version": 3
   },
   "file_extension": ".py",
   "mimetype": "text/x-python",
   "name": "python",
   "nbconvert_exporter": "python",
   "pygments_lexer": "ipython3",
   "version": "3.9.1"
  }
 },
 "nbformat": 4,
 "nbformat_minor": 1
}
